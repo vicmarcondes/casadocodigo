{
  "nbformat": 4,
  "nbformat_minor": 0,
  "metadata": {
    "colab": {
      "name": "carrinho_compras.ipynb",
      "provenance": [],
      "collapsed_sections": [],
      "authorship_tag": "ABX9TyMfTwJlTVF0eOd4Cw3GME2j",
      "include_colab_link": true
    },
    "kernelspec": {
      "name": "python3",
      "display_name": "Python 3"
    }
  },
  "cells": [
    {
      "cell_type": "markdown",
      "metadata": {
        "id": "view-in-github",
        "colab_type": "text"
      },
      "source": [
        "<a href=\"https://colab.research.google.com/github/vicmarcondes/casadocodigo/blob/master/carrinho_compras.ipynb\" target=\"_parent\"><img src=\"https://colab.research.google.com/assets/colab-badge.svg\" alt=\"Open In Colab\"/></a>"
      ]
    },
    {
      "cell_type": "markdown",
      "metadata": {
        "id": "myfvsPe8edPc",
        "colab_type": "text"
      },
      "source": [
        "**Imports**"
      ]
    },
    {
      "cell_type": "code",
      "metadata": {
        "id": "QDyCM0hj2oB8",
        "colab_type": "code",
        "colab": {}
      },
      "source": [
        "import numpy as np\n",
        "import pandas as pd\n",
        "import random as rd\n",
        "from random import randint\n",
        "import matplotlib.pyplot as plt\n"
      ],
      "execution_count": 262,
      "outputs": []
    },
    {
      "cell_type": "markdown",
      "metadata": {
        "id": "vD4qAlESemyg",
        "colab_type": "text"
      },
      "source": [
        "**Read csv**"
      ]
    },
    {
      "cell_type": "code",
      "metadata": {
        "id": "YQMxLfO33BrN",
        "colab_type": "code",
        "colab": {
          "base_uri": "https://localhost:8080/",
          "height": 204
        },
        "outputId": "819296fb-2d7a-47d3-b611-ecb80330615f"
      },
      "source": [
        "url = \"https://raw.githubusercontent.com/luisdurante/IA-II-algoritmo-genetico-carrinho-de-compras/master/amostra.csv\"\n",
        "df = pd.read_csv(\"https://raw.githubusercontent.com/luisdurante/IA-II-algoritmo-genetico-carrinho-de-compras/master/amostra.csv\", sep=';')"
      ],
      "execution_count": 263,
      "outputs": [
        {
          "output_type": "execute_result",
          "data": {
            "text/html": [
              "<div>\n",
              "<style scoped>\n",
              "    .dataframe tbody tr th:only-of-type {\n",
              "        vertical-align: middle;\n",
              "    }\n",
              "\n",
              "    .dataframe tbody tr th {\n",
              "        vertical-align: top;\n",
              "    }\n",
              "\n",
              "    .dataframe thead th {\n",
              "        text-align: right;\n",
              "    }\n",
              "</style>\n",
              "<table border=\"1\" class=\"dataframe\">\n",
              "  <thead>\n",
              "    <tr style=\"text-align: right;\">\n",
              "      <th></th>\n",
              "      <th>produto</th>\n",
              "      <th>valor</th>\n",
              "      <th>prioridade</th>\n",
              "      <th>categoria</th>\n",
              "      <th>valor nutritivo</th>\n",
              "    </tr>\n",
              "  </thead>\n",
              "  <tbody>\n",
              "    <tr>\n",
              "      <th>0</th>\n",
              "      <td>água</td>\n",
              "      <td>R$ 1,99</td>\n",
              "      <td>5</td>\n",
              "      <td>bebidas</td>\n",
              "      <td>5</td>\n",
              "    </tr>\n",
              "    <tr>\n",
              "      <th>1</th>\n",
              "      <td>cerveja</td>\n",
              "      <td>R$ 3,99</td>\n",
              "      <td>2</td>\n",
              "      <td>bebidas</td>\n",
              "      <td>1</td>\n",
              "    </tr>\n",
              "    <tr>\n",
              "      <th>2</th>\n",
              "      <td>refrigerante 2L</td>\n",
              "      <td>R$ 6,00</td>\n",
              "      <td>2</td>\n",
              "      <td>bebidas</td>\n",
              "      <td>1</td>\n",
              "    </tr>\n",
              "    <tr>\n",
              "      <th>3</th>\n",
              "      <td>vodka</td>\n",
              "      <td>R$ 30,00</td>\n",
              "      <td>1</td>\n",
              "      <td>bebidas</td>\n",
              "      <td>1</td>\n",
              "    </tr>\n",
              "    <tr>\n",
              "      <th>4</th>\n",
              "      <td>vinho</td>\n",
              "      <td>R$ 60,00</td>\n",
              "      <td>2</td>\n",
              "      <td>bebidas</td>\n",
              "      <td>1</td>\n",
              "    </tr>\n",
              "  </tbody>\n",
              "</table>\n",
              "</div>"
            ],
            "text/plain": [
              "           produto     valor  prioridade categoria  valor nutritivo\n",
              "0             água   R$ 1,99           5   bebidas                5\n",
              "1          cerveja   R$ 3,99           2   bebidas                1\n",
              "2  refrigerante 2L   R$ 6,00           2   bebidas                1\n",
              "3            vodka  R$ 30,00           1   bebidas                1\n",
              "4            vinho  R$ 60,00           2   bebidas                1"
            ]
          },
          "metadata": {
            "tags": []
          },
          "execution_count": 263
        }
      ]
    },
    {
      "cell_type": "markdown",
      "metadata": {
        "id": "hUOrHC2ltgAy",
        "colab_type": "text"
      },
      "source": [
        "**Add new column**"
      ]
    },
    {
      "cell_type": "code",
      "metadata": {
        "id": "LVwqgq-xtjtf",
        "colab_type": "code",
        "colab": {}
      },
      "source": [
        "df['valor_nutricional'] = np.random.randint(1,10, size = df.shape[0])"
      ],
      "execution_count": 264,
      "outputs": []
    },
    {
      "cell_type": "markdown",
      "metadata": {
        "id": "4OKujvgoUzWj",
        "colab_type": "text"
      },
      "source": [
        "**Transform the 'value' column in float**"
      ]
    },
    {
      "cell_type": "code",
      "metadata": {
        "id": "wVRTBNX1TgrR",
        "colab_type": "code",
        "colab": {
          "base_uri": "https://localhost:8080/",
          "height": 34
        },
        "outputId": "66bd9246-9444-4484-83c3-85e1d35b9be5"
      },
      "source": [
        "df.valor = df.valor.apply(lambda x: float(x.replace(',','.')[2:]))\n",
        "df.valor.sum()"
      ],
      "execution_count": 265,
      "outputs": [
        {
          "output_type": "execute_result",
          "data": {
            "text/plain": [
              "528.48"
            ]
          },
          "metadata": {
            "tags": []
          },
          "execution_count": 265
        }
      ]
    },
    {
      "cell_type": "markdown",
      "metadata": {
        "id": "MlRF-wjnfD9J",
        "colab_type": "text"
      },
      "source": [
        "**Initial population**"
      ]
    },
    {
      "cell_type": "code",
      "metadata": {
        "id": "z6YxrCabfDiQ",
        "colab_type": "code",
        "colab": {
          "base_uri": "https://localhost:8080/",
          "height": 170
        },
        "outputId": "2c47e102-88af-4833-e804-5afa54be1c25"
      },
      "source": [
        "solutions_per_pop = 98\n",
        "threshold = 100\n",
        "num_generations = 50\n",
        "item_number = np.arange(1,50)\n",
        "pop_size = (solutions_per_pop, df.shape[0])\n",
        "print('Population size: {}'.format(pop_size))\n",
        "initial_population = np.random.randint(2, size = pop_size)\n",
        "initial_population = initial_population.astype(int)\n",
        "print('Initial population: \\n{}'.format(initial_population))"
      ],
      "execution_count": 266,
      "outputs": [
        {
          "output_type": "stream",
          "text": [
            "Population size: (98, 39)\n",
            "Initial population: \n",
            "[[0 1 0 ... 1 1 0]\n",
            " [1 1 0 ... 1 1 0]\n",
            " [1 1 0 ... 0 1 1]\n",
            " ...\n",
            " [0 1 1 ... 1 0 0]\n",
            " [1 0 0 ... 1 0 1]\n",
            " [0 1 0 ... 1 0 0]]\n"
          ],
          "name": "stdout"
        }
      ]
    },
    {
      "cell_type": "code",
      "metadata": {
        "id": "W9CQtZyjhp-8",
        "colab_type": "code",
        "colab": {}
      },
      "source": [
        "def cal_fitness(weight, value, priority, population, threshold):\n",
        "    fitness = np.empty(population.shape[0])\n",
        "    for i in range(population.shape[0]):\n",
        "        total_nutritious = np.sum(population[i] * value)\n",
        "        total_value = np.sum(population[i] * weight)\n",
        "        total_priority = np.sum(population[i] * priority * 5)\n",
        "        \n",
        "        if total_value <= threshold:\n",
        "            fitness[i] = total_nutritious + total_priority\n",
        "        else :\n",
        "            fitness[i] = abs((total_nutritious + total_priority) - (total_value - threshold))\n",
        "    return fitness.astype(int)"
      ],
      "execution_count": 267,
      "outputs": []
    },
    {
      "cell_type": "code",
      "metadata": {
        "id": "JglMsoVJmbJ8",
        "colab_type": "code",
        "colab": {}
      },
      "source": [
        "def selection(fitness, num_parents, population):\n",
        "    fitness = list(fitness)\n",
        "    parents = np.empty((num_parents, population.shape[1]))\n",
        "    for i in range(num_parents):\n",
        "        max_fitness_idx = np.where(fitness == np.max(fitness))\n",
        "        parents[i,:] = population[max_fitness_idx[0][0], :]\n",
        "        fitness[max_fitness_idx[0][0]] = 999999\n",
        "    return parents"
      ],
      "execution_count": 268,
      "outputs": []
    },
    {
      "cell_type": "code",
      "metadata": {
        "id": "6EUqaGiKSpdJ",
        "colab_type": "code",
        "colab": {}
      },
      "source": [
        "def crossover(parents, num_offsprings):\n",
        "    offsprings = np.empty((num_offsprings, parents.shape[1]))\n",
        "    crossover_point = int(parents.shape[1]/2)\n",
        "    crossover_rate = 0.8\n",
        "    i=0\n",
        "    while (parents.shape[0] < num_offsprings):\n",
        "        parent1_index = i%parents.shape[0]\n",
        "        parent2_index = (i+1)%parents.shape[0]\n",
        "        x = rd.random()\n",
        "        if x > crossover_rate:\n",
        "            continue\n",
        "        parent1_index = i%parents.shape[0]\n",
        "        parent2_index = (i+1)%parents.shape[0]\n",
        "        offsprings[i,0:crossover_point] = parents[parent1_index,0:crossover_point]\n",
        "        offsprings[i,crossover_point:] = parents[parent2_index,crossover_point:]\n",
        "        i=+1\n",
        "    return offsprings    "
      ],
      "execution_count": 269,
      "outputs": []
    },
    {
      "cell_type": "code",
      "metadata": {
        "id": "J7tf8C5sSt5b",
        "colab_type": "code",
        "colab": {}
      },
      "source": [
        "def mutation(offsprings):\n",
        "    mutants = np.empty((offsprings.shape))\n",
        "    mutation_rate = 0.05\n",
        "    for i in range(mutants.shape[0]):\n",
        "        random_value = rd.random()\n",
        "        mutants[i,:] = offsprings[i,:]\n",
        "        if random_value > mutation_rate:\n",
        "            continue\n",
        "        int_random_value = randint(0,offsprings.shape[1]-1)    \n",
        "        if mutants[i,int_random_value] == 0 :\n",
        "            mutants[i,int_random_value] = 1\n",
        "        else :\n",
        "            mutants[i,int_random_value] = 0\n",
        "    return mutants   "
      ],
      "execution_count": 270,
      "outputs": []
    },
    {
      "cell_type": "code",
      "metadata": {
        "id": "o7X3BJ3PSxYD",
        "colab_type": "code",
        "colab": {}
      },
      "source": [
        "def optimize(weight, value, priority, population, pop_size, num_generations, threshold):\n",
        "    parameters, fitness_history = [], []\n",
        "    num_parents = int(pop_size[0]/2)\n",
        "    num_offsprings = pop_size[0] - num_parents \n",
        "    for i in range(num_generations):\n",
        "        fitness = cal_fitness(weight, value, priority, population, threshold)\n",
        "        fitness_history.append(fitness)\n",
        "        parents = selection(fitness, num_parents, population)\n",
        "        offsprings = crossover(parents, num_offsprings)\n",
        "        mutants = mutation(offsprings)\n",
        "        population[0:parents.shape[0], :] = parents\n",
        "        population[parents.shape[0]:, :] = mutants\n",
        "        \n",
        "    print('Last generation: \\n{}\\n'.format(population[2])) \n",
        "    fitness_last_gen = cal_fitness(weight, value, priority, population, threshold)      \n",
        "    print('Fitness of the last generation: \\n{}\\n'.format(fitness_last_gen))\n",
        "    max_fitness = np.where(fitness_last_gen == np.max(fitness_last_gen))\n",
        "    parameters.append(population[max_fitness[0][0],:])\n",
        "    return parameters, fitness_history"
      ],
      "execution_count": 271,
      "outputs": []
    },
    {
      "cell_type": "code",
      "metadata": {
        "id": "KwCKQAIRS6ZW",
        "colab_type": "code",
        "colab": {
          "base_uri": "https://localhost:8080/",
          "height": 272
        },
        "outputId": "12cf70c8-5abf-4bf8-e23a-82ae56f5eff5"
      },
      "source": [
        "\n",
        "parameters, fitness_history = optimize(df.valor, df.valor_nutricional, df.prioridade, initial_population, pop_size, num_generations, threshold)\n",
        "print('The optimized parameters for the given inputs are: \\n{}'.format(parameters))\n",
        "# selected_items = item_number * parameters\n",
        "# print('\\nSelected items that will maximize the knapsack without breaking it:')\n",
        "# for i in range(selected_items.shape[1]):\n",
        "#   if selected_items[0][i] != 0:\n",
        "#      print(' {} - Valor nutricional: {} - Valor: R$ {}\\n'.format(df.produto.iloc[selected_items[0][i] - 1], df.valor_nutricional.iloc[selected_items[0][i] - 1], \n",
        "#                                    df.valor.iloc[selected_items[0][i] - 1]))"
      ],
      "execution_count": 272,
      "outputs": [
        {
          "output_type": "stream",
          "text": [
            "Last generation: \n",
            "[1 1 1 0 0 0 1 0 0 0 0 1 1 1 1 1 1 1 1 1 1 1 1 1 1 1 1 1 1 0 1 1 1 0 1 1 1\n",
            " 1 1]\n",
            "\n",
            "Fitness of the last generation: \n",
            "[548 548 548 548 548 548 548 548 548 548 548 548 548 548 548 548 548 548\n",
            " 548 548 548 548 548 548 548 548 548 548 548 548 548 548 548 548 548 548\n",
            " 548 548 548 548 548 548 548 548 548 548 548 548 548 517 548 548 548 548\n",
            " 548 548 548 548 548 548 548 548 548 548 548 548 548 548 535 548 548 548\n",
            " 548 548 548 548 548 548 548 548 532 548 548 548 548 548 544 546 548 548\n",
            " 548 548 548 548 548 540 548 548]\n",
            "\n",
            "The optimized parameters for the given inputs are: \n",
            "[array([1, 1, 1, 0, 0, 0, 1, 0, 0, 0, 0, 1, 1, 1, 1, 1, 1, 1, 1, 1, 1, 1,\n",
            "       1, 1, 1, 1, 1, 1, 1, 0, 1, 1, 1, 0, 1, 1, 1, 1, 1])]\n"
          ],
          "name": "stdout"
        }
      ]
    },
    {
      "cell_type": "markdown",
      "metadata": {
        "id": "WlFdwxo7xzx0",
        "colab_type": "text"
      },
      "source": [
        "**Fitness through the generations**"
      ]
    },
    {
      "cell_type": "code",
      "metadata": {
        "id": "cR6Bqf60xzQq",
        "colab_type": "code",
        "colab": {
          "base_uri": "https://localhost:8080/",
          "height": 349
        },
        "outputId": "6ca47149-3f0a-4cd9-e7c8-9b12a0402cf4"
      },
      "source": [
        "fitness_history_mean = [np.mean(fitness) for fitness in fitness_history]\n",
        "fitness_history_max = [np.max(fitness) for fitness in fitness_history]\n",
        "fitness_history_min = [np.min(fitness) for fitness in fitness_history]\n",
        "print('mean: {} - max: {} - min: {}'.format(fitness_history_mean, fitness_history_max, fitness_history_min))\n",
        "\n",
        "plt.plot(list(range(num_generations)), fitness_history_mean, label = 'Mean Fitness')\n",
        "plt.plot(list(range(num_generations)), fitness_history_max, label = 'Max Fitness')\n",
        "plt.plot(list(range(num_generations)), fitness_history_min, label = 'Min Fitness')\n",
        "\n",
        "plt.legend()\n",
        "plt.title('Fitness through the generations')\n",
        "plt.xlabel('Generations')\n",
        "plt.ylabel('Fitness')\n",
        "plt.show()\n",
        "print(np.asarray(fitness_history).shape)"
      ],
      "execution_count": 273,
      "outputs": [
        {
          "output_type": "stream",
          "text": [
            "mean: [249.09183673469389, 453.53061224489795, 453.1326530612245, 539.2448979591836, 539.3979591836735, 539.7244897959183, 541.3775510204082, 542.969387755102, 543.7244897959183, 545.1734693877551, 547.4795918367347, 547.1224489795918, 547.6224489795918, 547.530612244898, 547.4387755102041, 547.4795918367347, 547.4387755102041, 547.6836734693877, 546.6734693877551, 547.530612244898, 547.0816326530612, 547.3979591836735, 547.6428571428571, 547.3469387755102, 547.5102040816327, 547.0612244897959, 547.3367346938776, 547.1734693877551, 547.4387755102041, 547.6836734693877, 546.6428571428571, 547.3367346938776, 546.8775510204082, 547.3673469387755, 547.2448979591836, 547.5204081632653, 547.6122448979592, 547.265306122449, 547.2142857142857, 547.3163265306123, 547.0612244897959, 547.0102040816327, 547.4795918367347, 547.204081632653, 547.1938775510204, 547.1224489795918, 547.3877551020408, 547.3061224489796, 547.0408163265306, 547.204081632653] - max: [368, 540, 540, 540, 540, 544, 544, 544, 548, 548, 548, 548, 548, 548, 548, 548, 548, 548, 548, 548, 548, 548, 548, 548, 548, 548, 548, 548, 548, 548, 548, 548, 548, 548, 548, 548, 548, 548, 548, 548, 548, 548, 548, 548, 548, 548, 548, 548, 548, 548] - min: [100, 368, 339, 509, 509, 509, 509, 488, 513, 513, 517, 517, 517, 517, 493, 517, 517, 517, 503, 517, 517, 517, 517, 517, 517, 517, 517, 517, 517, 517, 517, 517, 501, 517, 517, 517, 517, 517, 517, 517, 517, 517, 517, 517, 508, 517, 517, 517, 517, 517]\n"
          ],
          "name": "stdout"
        },
        {
          "output_type": "display_data",
          "data": {
            "image/png": "[encoded data removed]",
            "text/plain": [
              "<Figure size 432x288 with 1 Axes>"
            ]
          },
          "metadata": {
            "tags": [],
            "needs_background": "light"
          }
        },
        {
          "output_type": "stream",
          "text": [
            "(50, 98)\n"
          ],
          "name": "stdout"
        }
      ]
    }
  ]
}